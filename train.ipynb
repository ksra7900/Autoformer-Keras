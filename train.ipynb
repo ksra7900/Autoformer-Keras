{
 "cells": [
  {
   "cell_type": "code",
   "execution_count": null,
   "id": "8156f79f",
   "metadata": {},
   "outputs": [],
   "source": [
    "from autoformer.model import Autoformer\n",
    "import numpy as np\n",
    "import pandas as pd\n",
    "import tensorflow as tf\n",
    "from keras import layers\n",
    "from keras.models import Model\n",
    "from keras.callbacks import EarlyStopping               \n",
    "from sklearn.model_selection import train_test_split\n",
    "from sklearn.preprocessing import MinMaxScaler,  PowerTransformer\n",
    "import matplotlib.pyplot as plt\n",
    "import warnings\n",
    "warnings.filterwarnings('ignore')"
   ]
  },
  {
   "cell_type": "code",
   "execution_count": null,
   "id": "40419cc4",
   "metadata": {},
   "outputs": [],
   "source": [
    "def create_time_windows(data, target, window_size, horizon=1):\n",
    "    X_windows = []\n",
    "    y_windows = []\n",
    "    for i in range(len(data) - window_size - horizon + 1):\n",
    "        X_windows.append(data[i:i+window_size])  # این باید یک sequence باشد\n",
    "        y_windows.append(target[i+window_size:i+window_size+horizon])\n",
    "    return np.array(X_windows), np.array(y_windows)"
   ]
  },
  {
   "cell_type": "code",
   "execution_count": null,
   "id": "de7429cc",
   "metadata": {},
   "outputs": [],
   "source": [
    "df= pd.read_csv('data/Tetuan City power consumption.csv')\n",
    "# split data\n",
    "X= df.drop(columns= ['Zone 3  Power Consumption'])\n",
    "y= df[['Zone 3  Power Consumption']]\n",
    "\n",
    "# create timestamp\n",
    "X['DateTime'] = pd.to_datetime(X['DateTime'])\n",
    "X['timestamp'] = X['DateTime'].view('int')\n",
    "X = X.set_index(['DateTime'])\n",
    "\n",
    "# normalizing data\n",
    "pt1 = PowerTransformer(method='yeo-johnson')\n",
    "pt2 = PowerTransformer(method='yeo-johnson')\n",
    "X['normed_general diffuse flows'] = pt1.fit_transform(X[['general diffuse flows']])\n",
    "X['normed_diffuse flows'] = pt2.fit_transform(X[['diffuse flows']])\n",
    "X['normed_humidity'] = np.clip(X['Humidity'], a_min=40, a_max=90)\n",
    "X = X.drop(['Humidity', 'general diffuse flows', 'diffuse flows'], axis=1)\n",
    "\n",
    "scaler_x = MinMaxScaler(feature_range=(0, 1))\n",
    "scaler_y = MinMaxScaler(feature_range=(0, 1))\n",
    "\n",
    "X_scaled = scaler_x.fit_transform(X)\n",
    "y_scaled = scaler_y.fit_transform(y)\n",
    "\n",
    "window_size = 144  # last 24 hour\n",
    "horizon = 144  # forecast next hour\n",
    "\n",
    "X_windows, y_windows = create_time_windows(X_scaled, y_scaled, window_size, horizon)\n",
    "\n",
    "if len(y_windows.shape) == 1:\n",
    "    y_windows = y_windows.reshape(-1, 1)\n",
    "    \n",
    "x_train, x_test, y_train, y_test= train_test_split(\n",
    "    X_windows, y_windows, train_size=0.8, shuffle=False)\n",
    "\n",
    "x_valid, x_test, y_valid, y_test= train_test_split(\n",
    "    x_test, y_test, train_size=0.5, shuffle=False)"
   ]
  },
  {
   "cell_type": "code",
   "execution_count": null,
   "id": "d6e5a34c",
   "metadata": {},
   "outputs": [],
   "source": [
    "input_shape = (window_size, X.shape[1])\n",
    "inputs= layers.Input(shape=input_shape)\n",
    "x= Autoformer(d_out= 1,\n",
    "            d_model= 16,\n",
    "            n_heads= 4,\n",
    "            conv_filter= 16,\n",
    "            num_decoder=1,\n",
    "            num_encoder=1)(inputs)\n",
    "\n",
    "x= layers.Dense(horizon)(x)\n",
    "x= x[:, -1, :]\n",
    "outputs= layers.Reshape((horizon, 1))(x)\n",
    "\n",
    "model= Model(inputs= inputs, outputs= outputs)      \n",
    "model.compile(optimizer='adam', \n",
    "              loss=['mse'],\n",
    "              metrics= ['RootMeanSquaredError'])\n",
    "model.summary()  "
   ]
  },
  {
   "cell_type": "code",
   "execution_count": null,
   "id": "46c902a2",
   "metadata": {},
   "outputs": [],
   "source": [
    "callback= EarlyStopping(monitor='val_loss',\n",
    "                        patience=20,\n",
    "                        restore_best_weights= True)\n",
    "history = model.fit(\n",
    "    x_train,\n",
    "    y_train,\n",
    "    validation_data=(x_valid, y_valid),\n",
    "    shuffle=False,\n",
    "    epochs=50,\n",
    "    callbacks= callback\n",
    ")"
   ]
  },
  {
   "cell_type": "code",
   "execution_count": null,
   "id": "86556d32",
   "metadata": {},
   "outputs": [],
   "source": [
    "# Evaluate the model accuracy on the validation set.\n",
    "score = model.evaluate(x_test, y_test)"
   ]
  },
  {
   "cell_type": "code",
   "execution_count": null,
   "id": "97b45c9b",
   "metadata": {},
   "outputs": [],
   "source": [
    "y_pred= model.predict(x_test)"
   ]
  },
  {
   "cell_type": "code",
   "execution_count": null,
   "id": "e38f4840",
   "metadata": {},
   "outputs": [],
   "source": [
    "y_pred_rescaled = y_scaled.inverse_transform(y_pred.reshape(-1, 1)).reshape(y_pred.shape)\n",
    "y_true_rescaled = y_scaled.inverse_transform(y_test.reshape(-1, 1)).reshape(y_test.shape)"
   ]
  },
  {
   "cell_type": "code",
   "execution_count": null,
   "id": "1b2f1fb0",
   "metadata": {},
   "outputs": [],
   "source": [
    "plt.figure(figsize=(12,6))\n",
    "plt.plot(y_true_rescaled[0], label=\"Actual\", marker='o')\n",
    "plt.plot(y_pred_rescaled[0], label=\"Predicted\", marker='x')\n",
    "plt.title(\"Test Sequence Prediction vs Actual\")\n",
    "plt.xlabel(\"Time step\")\n",
    "plt.ylabel(\"Target value\")\n",
    "plt.legend()\n",
    "plt.show()"
   ]
  },
  {
   "cell_type": "code",
   "execution_count": null,
   "id": "0f0c1b91",
   "metadata": {},
   "outputs": [],
   "source": [
    "train_loss = history.history['loss']\n",
    "val_loss = history.history['val_loss']\n",
    "\n",
    "plt.figure(figsize=(10,6))\n",
    "plt.plot(train_loss, label=\"Training Loss\")\n",
    "plt.plot(val_loss, label=\"Validation Loss\")\n",
    "plt.title(\"Training vs Validation Loss\")\n",
    "plt.xlabel(\"Epoch\")\n",
    "plt.ylabel(\"Loss\")\n",
    "plt.legend()\n",
    "plt.grid(True)\n",
    "plt.show()"
   ]
  }
 ],
 "metadata": {
  "kernelspec": {
   "display_name": "base",
   "language": "python",
   "name": "python3"
  },
  "language_info": {
   "codemirror_mode": {
    "name": "ipython",
    "version": 3
   },
   "file_extension": ".py",
   "mimetype": "text/x-python",
   "name": "python",
   "nbconvert_exporter": "python",
   "pygments_lexer": "ipython3",
   "version": "3.12.7"
  }
 },
 "nbformat": 4,
 "nbformat_minor": 5
}
